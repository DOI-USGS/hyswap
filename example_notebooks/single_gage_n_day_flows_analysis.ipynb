{
 "cells": [
  {
   "cell_type": "markdown",
   "metadata": {
    "vscode": {
     "languageId": "raw"
    }
   },
   "source": [
    "# Analysis of N-Day Streamflows for a Single Gage"
   ]
  },
  {
   "cell_type": "markdown",
   "metadata": {},
   "source": [
    "Demonstration of use of [hywsap](https://doi-usgs.github.io/hyswap/) python package for analyzing different n-day flows for a single streamgage. \n",
    "\n",
    "This example notebook relies on use of the [dataretrieval](https://github.com/DOI-USGS/dataRetrieval) package for downloading streamflow information from USGS NWIS"
   ]
  },
  {
   "cell_type": "code",
   "execution_count": null,
   "metadata": {},
   "outputs": [],
   "source": [
    "import dataretrieval as nwis\n",
    "import hyswap\n",
    "import matplotlib.pyplot as plt\n",
    "import numpy as np\n",
    "import warnings\n",
    "warnings.filterwarnings('ignore') # ignore warnings from dataretrieval"
   ]
  },
  {
   "cell_type": "markdown",
   "metadata": {},
   "source": [
    "## Download streamflow data from USGS NWIS for an example site \n",
    "For demonstration purposes, use gage 04286000 - WINOOSKI RIVER AT MONTPELIER, VT\n",
    "\n",
    "Users can identify streamflow gage locations and site ID numbers through the [USGS National Water Dashboard](https://dashboard.waterdata.usgs.gov/app/nwd/en/)"
   ]
  },
  {
   "cell_type": "code",
   "execution_count": null,
   "metadata": {},
   "outputs": [],
   "source": [
    "StaID = '04286000'\n",
    "flow_data = nwis.get_record(sites=StaID, parameterCd='00060', start='1900-01-01', service='dv')\n",
    "station_name = nwis.get_record(sites=StaID, service='site').loc[0, 'station_nm']"
   ]
  },
  {
   "cell_type": "code",
   "execution_count": null,
   "metadata": {},
   "outputs": [],
   "source": [
    "if '00060_Mean' in flow_data.columns:\n",
    "    # set preliminary, non-valid observations (-999999) to NaN\n",
    "    flow_data['00060_Mean'] = flow_data['00060_Mean'].replace(-999999, np.nan)\n",
    "\n",
    "    # create a filtered version of data of only USGS approved data (quality-assured data that may be published and used in statistical analsysis)\n",
    "    approved_flow_data = hyswap.utils.filter_approved_data(flow_data, '00060_Mean_cd')\n",
    "else:\n",
    "    print('No standard discharge data column found for site ' + StaID + ', suggest using a different site')"
   ]
  },
  {
   "cell_type": "code",
   "execution_count": null,
   "metadata": {},
   "outputs": [],
   "source": [
    "# summary statistics for the approved data (quality-assured data that may be published and used in statistical analsysis)\n",
    "summary_stats = hyswap.calculate_summary_statistics(approved_flow_data)"
   ]
  },
  {
   "cell_type": "code",
   "execution_count": null,
   "metadata": {},
   "outputs": [],
   "source": [
    "#| tbl-cap: Example table of summary statistics\n",
    "summary_stats"
   ]
  },
  {
   "cell_type": "markdown",
   "metadata": {},
   "source": [
    "## Check data and plot simple hydrograph of 7-day average flows"
   ]
  },
  {
   "cell_type": "code",
   "execution_count": null,
   "metadata": {},
   "outputs": [],
   "source": [
    "#| fig-cap: Sample HySwap hydrograph plot for 7-Day Average Streamflow\n",
    "# calculate n-Day average streamflow\n",
    "n = 7 \n",
    "flow_data_nday = hyswap.utils.rolling_average(flow_data, '00060_Mean', n)\n",
    "plot_start = \"2021-10-01\"\n",
    "plot_end = \"2023-09-30\"\n",
    "# make plot\n",
    "fig, ax = plt.subplots(figsize=(10,4))\n",
    "ax = hyswap.plot_hydrograph(flow_data_nday, \n",
    "                       data_col = \"00060_Mean\", \n",
    "                       start_date=plot_start,\n",
    "                       end_date=plot_end,\n",
    "                       title=f'{n}-Day Average Streamflow Hydrograph for {StaID} - {station_name}',\n",
    "                       ylab=f\"{n}-Day Average Streamflow (cfs)\",\n",
    "                       ax = ax)\n",
    "plt.show()"
   ]
  },
  {
   "cell_type": "markdown",
   "metadata": {},
   "source": [
    "## Look at long-term record of n-day streamflow as raster hydrograph"
   ]
  },
  {
   "cell_type": "code",
   "execution_count": null,
   "metadata": {},
   "outputs": [],
   "source": [
    "# try a raster hydrograph to see historical n-day flows\n",
    "# format the data from the last 50 years of records (1972-2023)\n",
    "df_formatted = hyswap.rasterhydrograph.format_data(flow_data, \n",
    "                                                   '00060_Mean', \n",
    "                                                   year_type=\"calendar\", \n",
    "                                                   begin_year=1973, \n",
    "                                                   end_year=2023, \n",
    "                                                   data_type = \"7-day\")"
   ]
  },
  {
   "cell_type": "code",
   "execution_count": null,
   "metadata": {},
   "outputs": [],
   "source": [
    "#| fig-cap: Sample raster hydrograph showing past 50 years of 7-day average streamflow\n",
    "\n",
    "# make plot\n",
    "fig = plt.figure(figsize=(8,12))\n",
    "ax = fig.add_subplot()\n",
    "ax = hyswap.plots.plot_raster_hydrograph(\n",
    "    df_formatted, \n",
    "    ax=ax,\n",
    "    title=f\"7-Day Average Raster Hydrograph for {StaID} - {station_name}\",\n",
    "    cbarlab='7-Day Average Streamflow, cubic feet per second')\n",
    "plt.show()"
   ]
  },
  {
   "cell_type": "markdown",
   "metadata": {},
   "source": [
    "## Calculate streamflow percentiles for n-day flows\n",
    "This example focuses on how the year 2023 compares to other years on record for this site. \n",
    "First, we will view how daily streamflow in 2023 compares to other years, and then compare 7-day and 28-day rolling means."
   ]
  },
  {
   "cell_type": "code",
   "execution_count": null,
   "metadata": {},
   "outputs": [],
   "source": [
    "# get year/doy information\n",
    "df_indexed = hyswap.utils.define_year_doy_columns(flow_data,\n",
    "                                               year_type='water',\n",
    "                                               clip_leap_day=True)\n",
    "year_to_plot = 2023\n",
    "# filter down to data from year to plot\n",
    "df_year = df_indexed[df_indexed['index_year'] == year_to_plot].copy()\n",
    "# calculate variable percentile thresholds (using only approved data)\n",
    "percentiles_by_day = hyswap.percentiles.calculate_variable_percentile_thresholds_by_day(\n",
    "    approved_flow_data, \"00060_Mean\")"
   ]
  },
  {
   "cell_type": "code",
   "execution_count": null,
   "metadata": {},
   "outputs": [],
   "source": [
    "#| fig-cap: Example streamflow duration hydrograph with daily streamflow for the 2023 Water Year\n",
    "# plot daily percentiles\n",
    "fig, ax = plt.subplots(figsize=(12, 8))\n",
    "ax = hyswap.plots.plot_duration_hydrograph(\n",
    "    percentiles_by_day,\n",
    "    df_year,\n",
    "    \"00060_Mean\",\n",
    "    ax=ax,\n",
    "    data_label=f\"Water Year {year_to_plot}\",\n",
    "    title=f\"Streamflow Duration Hydrograph for {StaID} - {station_name}\",\n",
    "    xlab=\"\",\n",
    "    ylab=\"Daily Streamflow (cfs)\"\n",
    ")\n",
    "plt.show()"
   ]
  },
  {
   "cell_type": "code",
   "execution_count": null,
   "metadata": {},
   "outputs": [],
   "source": [
    "#| fig-cap: Example streamflow duration hydrograph with 7-day average streamflow for the 2023 Water Year\n",
    "percentiles_by_nday = hyswap.percentiles.calculate_variable_percentile_thresholds_by_day(\n",
    "    approved_flow_data, \"00060_Mean\", data_type='7-day')\n",
    "n = 7\n",
    "# plot 7-day avg percentiles\n",
    "fig, ax = plt.subplots(figsize=(12, 8))\n",
    "ax = hyswap.plots.plot_duration_hydrograph(\n",
    "    percentiles_by_nday,\n",
    "    hyswap.utils.rolling_average(df_year, \"00060_Mean\", n),\n",
    "    \"00060_Mean\",\n",
    "    ax=ax,\n",
    "    data_label=f\"Water Year {year_to_plot}\",\n",
    "    title=f\"{n}-Day Avg. Streamflow Duration Hydrograph for {StaID} - {station_name}\",\n",
    "    xlab=\"\",\n",
    "    ylab=f\"{n}-Day Avg. Streamflow (cfs)\"\n",
    ")\n",
    "plt.show()"
   ]
  },
  {
   "cell_type": "code",
   "execution_count": null,
   "metadata": {},
   "outputs": [],
   "source": [
    "#| fig-cap: Example streamflow duration hydrograph with 28-day average streamflow for the 2023 Water Year\n",
    "percentiles_by_nday = hyswap.percentiles.calculate_variable_percentile_thresholds_by_day(\n",
    "    approved_flow_data, \"00060_Mean\", data_type='28-day')\n",
    "n = 28\n",
    "# plot 28-day average percentiles\n",
    "fig, ax = plt.subplots(figsize=(12, 8))\n",
    "ax = hyswap.plots.plot_duration_hydrograph(\n",
    "    percentiles_by_nday,\n",
    "    hyswap.utils.rolling_average(df_year, \"00060_Mean\", n),\n",
    "    \"00060_Mean\",\n",
    "    ax=ax,\n",
    "    data_label=f\"Water Year {year_to_plot}\",\n",
    "    title=f\"{n}-Day Avg. Streamflow Duration Hydrograph for {StaID} - {station_name}\",\n",
    "    xlab=\"\",\n",
    "    ylab=f\"{n}-Day Avg. Streamflow (cfs)\"\n",
    ")\n",
    "plt.show()"
   ]
  }
 ],
 "metadata": {
  "jupytext": {
   "formats": "ipynb,qmd"
  },
  "kernelspec": {
   "display_name": "Python 3 (ipykernel)",
   "language": "python",
   "name": "python3"
  },
  "language_info": {
   "codemirror_mode": {
    "name": "ipython",
    "version": 3
   },
   "file_extension": ".py",
   "mimetype": "text/x-python",
   "name": "python",
   "nbconvert_exporter": "python",
   "pygments_lexer": "ipython3",
   "version": "3.11.5"
  }
 },
 "nbformat": 4,
 "nbformat_minor": 4
}
