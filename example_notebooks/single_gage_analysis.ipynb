{
 "cells": [
  {
   "cell_type": "markdown",
   "metadata": {
    "vscode": {
     "languageId": "raw"
    }
   },
   "source": [
    "# Analysis of Streamflow Conditions and Historical Streamflows at a Single Gage"
   ]
  },
  {
   "cell_type": "markdown",
   "metadata": {},
   "source": [
    "This notebook provides a demonstration of the use of [hywsap](https://doi-usgs.github.io/hyswap/) python package for analyzing streamflow conditions at a single streamgage including plotting of flow duration curves, duration hydrographs, and cumulative streamflow. \n",
    "\n",
    "This example notebook relies on use of the [dataretrieval](https://github.com/DOI-USGS/dataRetrieval) package for downloading streamflow information from USGS NWIS\n"
   ]
  },
  {
   "cell_type": "code",
   "execution_count": null,
   "metadata": {},
   "outputs": [],
   "source": [
    "from dataretrieval import nwis\n",
    "import hyswap\n",
    "import matplotlib.pyplot as plt\n",
    "import numpy as np\n",
    "import warnings\n",
    "warnings.filterwarnings('ignore') # ignore warnings from dataretrieval"
   ]
  },
  {
   "cell_type": "markdown",
   "metadata": {},
   "source": [
    "## Download streamflow data from USGS NWIS for an example site \n",
    "For demonstration purposes, retrieving data for gage 04288000 - MAD RIVER AT MORETOWN, VT.\n",
    "\n",
    "Users can identify streamflow gage locations and site ID numbers through the [USGS National Water Dashboard](https://dashboard.waterdata.usgs.gov/app/nwd/en/)"
   ]
  },
  {
   "cell_type": "code",
   "execution_count": null,
   "metadata": {},
   "outputs": [],
   "source": [
    "StaID = '04288000'\n",
    "flow_data = nwis.get_record(sites=StaID, parameterCd='00060', start='1900-01-01', service='dv')\n",
    "station_name = nwis.get_record(sites=StaID, service='site').loc[0, 'station_nm']"
   ]
  },
  {
   "cell_type": "code",
   "execution_count": null,
   "metadata": {},
   "outputs": [],
   "source": [
    "if '00060_Mean' in flow_data.columns:\n",
    "    # set preliminary, non-valid observations (-999999) to NaN\n",
    "    flow_data['00060_Mean'] = flow_data['00060_Mean'].replace(-999999, np.nan)\n",
    "\n",
    "    # create a filtered version of data of only USGS approved data (quality-assured data that may be published and used in statistical analsysis)\n",
    "    approved_flow_data = hyswap.utils.filter_approved_data(flow_data, '00060_Mean_cd')\n",
    "else:\n",
    "    print('No standard discharge data column found for site ' + StaID + ', suggest using a different site')"
   ]
  },
  {
   "cell_type": "code",
   "execution_count": null,
   "metadata": {},
   "outputs": [],
   "source": [
    "# view a sample of data records\n",
    "flow_data.head()"
   ]
  },
  {
   "cell_type": "markdown",
   "metadata": {},
   "source": [
    "## Perform simple data check and exploration by plotting hydrographs of select water years"
   ]
  },
  {
   "cell_type": "code",
   "execution_count": null,
   "metadata": {},
   "outputs": [],
   "source": [
    "#| fig-cap: Sample HySwap hydrograph plot\n",
    "plot_start = \"2010-10-01\"\n",
    "plot_end = \"2011-09-30\"\n",
    "\n",
    "fig, ax = plt.subplots(figsize=(9,4))\n",
    "ax = hyswap.plot_hydrograph(flow_data, \n",
    "                            data_col = \"00060_Mean\", \n",
    "                            start_date = plot_start,\n",
    "                            end_date = plot_end,\n",
    "                            title = f\"Hydrograph for {StaID} - {station_name}\",\n",
    "                            ax = ax)\n",
    "plt.show()"
   ]
  },
  {
   "cell_type": "markdown",
   "metadata": {},
   "source": [
    "Next, try changing the plot to not have log scale on the y-axis"
   ]
  },
  {
   "cell_type": "code",
   "execution_count": null,
   "metadata": {},
   "outputs": [],
   "source": [
    "#| fig-cap: Sample HySwap hydrograph plot\n",
    "fig, ax = plt.subplots(figsize=(9,4))\n",
    "hyswap.plot_hydrograph(flow_data, \n",
    "                       data_col = \"00060_Mean\", \n",
    "                       start_date=plot_start,\n",
    "                       end_date=plot_end,\n",
    "                       title=f\"Hydrograph for {StaID} - {station_name}\",\n",
    "                       yscale = 'linear',\n",
    "                       ax = ax)\n",
    "plt.show()"
   ]
  },
  {
   "cell_type": "markdown",
   "metadata": {},
   "source": [
    "Now test doing some plot customizations including axis labels, colors, plot style"
   ]
  },
  {
   "cell_type": "code",
   "execution_count": null,
   "metadata": {},
   "outputs": [],
   "source": [
    "#| fig-cap: Sample HySwap hydrograph plot with customized appearance\n",
    "plot_start = \"2021-10-01\"\n",
    "fig, ax = plt.subplots(figsize=(12,4))\n",
    "ax = hyswap.plot_hydrograph(flow_data, \n",
    "                       data_col = \"00060_Mean\", \n",
    "                       start_date=plot_start,\n",
    "                       title=f\"Hydrograph for {StaID} - {station_name}\",\n",
    "                       yscale = 'linear',\n",
    "                       ylab = 'Streamflow (cfs)',\n",
    "                       xlab = '',\n",
    "                       color = '#360919',\n",
    "                       ax = ax)\n",
    "ax.grid(which = \"major\", axis=\"y\", lw = 1.5)\n",
    "ax.grid(which = \"minor\", axis=\"y\", linestyle = \"dashed\")\n",
    "ax.minorticks_on()\n",
    "plt.show()"
   ]
  },
  {
   "cell_type": "markdown",
   "metadata": {},
   "source": [
    "## Analyze the long-term record of streamflow\n",
    "Review summary statistics and flow records using raster hydrographs"
   ]
  },
  {
   "cell_type": "code",
   "execution_count": null,
   "metadata": {},
   "outputs": [],
   "source": [
    "# calcualte summary statistics on only approved data (quality-assured data that may be published and used in statistical analsysis)\n",
    "summary_stats = hyswap.calculate_summary_statistics(approved_flow_data)"
   ]
  },
  {
   "cell_type": "code",
   "execution_count": null,
   "metadata": {},
   "outputs": [],
   "source": [
    "#| tbl-cap: Example table of summary statistics\n",
    "summary_stats"
   ]
  },
  {
   "cell_type": "markdown",
   "metadata": {},
   "source": [
    "To view long-term patterns and trends in streamflow, raster hydrographs can be plotted using `hyswap`\n",
    "Here, let's utilize a raster hydrograph to see the historical flow at the site from the pst 50 years (1973-2023)"
   ]
  },
  {
   "cell_type": "code",
   "execution_count": null,
   "metadata": {},
   "outputs": [],
   "source": [
    "# format the data\n",
    "df_formatted = hyswap.rasterhydrograph.format_data(flow_data, '00060_Mean', year_type=\"calendar\", begin_year=1973, end_year=2023)"
   ]
  },
  {
   "cell_type": "code",
   "execution_count": null,
   "metadata": {},
   "outputs": [],
   "source": [
    "#| fig-cap: Sample raster hydrograph showing past 50 years of streamflow\n",
    "# make plot\n",
    "fig, ax = plt.subplots(figsize=(8,10))\n",
    "ax = hyswap.plots.plot_raster_hydrograph(\n",
    "    df_formatted, \n",
    "    ax=ax,\n",
    "    title=f\"Raster Hydrograph for {StaID} - {station_name}\")\n",
    "plt.show()"
   ]
  },
  {
   "cell_type": "markdown",
   "metadata": {},
   "source": [
    "Next, try customizing the raster hydrograph by changing to water years, using a different colormap, removing the leap day, and showing all years that have data."
   ]
  },
  {
   "cell_type": "code",
   "execution_count": null,
   "metadata": {},
   "outputs": [],
   "source": [
    "# re-format data\n",
    "df_formatted = hyswap.rasterhydrograph.format_data(flow_data, \n",
    "                                                   '00060_Mean', \n",
    "                                                   year_type=\"water\", \n",
    "                                                   clip_leap_day=True)"
   ]
  },
  {
   "cell_type": "code",
   "execution_count": null,
   "metadata": {},
   "outputs": [],
   "source": [
    "#| fig-cap: Sample raster hydrograph showing all daily streamflow records from a site\n",
    "# make plot\n",
    "fig = plt.figure(figsize=(8,18))\n",
    "ax = fig.add_subplot()\n",
    "ax = hyswap.plots.plot_raster_hydrograph(\n",
    "    df_formatted, \n",
    "    ax=ax,\n",
    "    title=f\"Raster Hydrograph for {StaID} - {station_name}\",\n",
    "    cmap='gist_ncar')\n",
    "plt.show()"
   ]
  },
  {
   "cell_type": "markdown",
   "metadata": {},
   "source": [
    "## Analyze annual streamflow through cumulative flow and flow duration curves \n",
    "Use calculations of streamflow percentiles (variable by day) to analyze annual patterns in streamflow\n",
    "\n",
    "Let's look at the last four years (2020-2023) of cumulative streamflow by plotting a cumulative hydrographs of different water years along with the envelope that 90% of annual cumulative streamflow is expected to be within, and the years with the minimum and maximum annual cumulative streamflows."
   ]
  },
  {
   "cell_type": "code",
   "execution_count": null,
   "metadata": {},
   "outputs": [],
   "source": [
    "#| fig-cap: Sample cumulative hydrograph showing multiple water years of cumulative streamflow\n",
    "years_to_plot = [2020, 2021, 2022, 2023]\n",
    "# plot the cumulative streamflow hydrograph\n",
    "fig, ax = plt.subplots(figsize=(10, 5))\n",
    "ax = hyswap.plots.plot_cumulative_hydrograph(\n",
    "    flow_data,\n",
    "    data_column_name='00060_Mean',\n",
    "    target_years=years_to_plot,\n",
    "    ax=ax, \n",
    "    title=f'Cumulative Streamflow Hydrograph for {StaID} - {station_name}',\n",
    "    envelope_pct = [5,95],\n",
    "    max_year=True, \n",
    "    min_year=True,\n",
    "    year_type = 'water',\n",
    "    alpha=0.2)\n",
    "plt.show()"
   ]
  },
  {
   "cell_type": "markdown",
   "metadata": {},
   "source": [
    "Next, look at the flow duration curve for a site"
   ]
  },
  {
   "cell_type": "code",
   "execution_count": null,
   "metadata": {},
   "outputs": [],
   "source": [
    "# create data for flow duration curve\n",
    "# generate 1,000 evenly spaced values between the min and max flow to create a smooth line\n",
    "values = np.linspace(flow_data['00060_Mean'].min(), flow_data['00060_Mean'].max(), 1000)\n",
    "# calculate exceedance probabilities from the daily mean streamflow values using only approved data\n",
    "exceedance_probabilities = hyswap.exceedance.calculate_exceedance_probability_from_values_multiple(\n",
    "    values, approved_flow_data['00060_Mean'])"
   ]
  },
  {
   "cell_type": "code",
   "execution_count": null,
   "metadata": {},
   "outputs": [],
   "source": [
    "#| fig-cap: Example flow duration curve for a single gage\n",
    "# plot the flow duration curve\n",
    "fig, ax = plt.subplots(figsize=(8, 6))\n",
    "ax = hyswap.plots.plot_flow_duration_curve(\n",
    "    values, \n",
    "    exceedance_probabilities, \n",
    "    ax=ax,\n",
    "    title=f'Flow Duration Curve for {StaID} - {station_name}')\n",
    "# show the plot\n",
    "plt.tight_layout()\n",
    "plt.show()"
   ]
  },
  {
   "cell_type": "markdown",
   "metadata": {},
   "source": [
    "Next, look at the seasonality and variability of streamflow at a single site by plotting a streamflow duration hydrograph."
   ]
  },
  {
   "cell_type": "code",
   "execution_count": null,
   "metadata": {},
   "outputs": [],
   "source": [
    "# create data for streamflow duration hydrograph from approved flow data\n",
    "percentiles_by_day = hyswap.percentiles.calculate_variable_percentile_thresholds_by_day(approved_flow_data, \n",
    "                                                                                        \"00060_Mean\")"
   ]
  },
  {
   "cell_type": "code",
   "execution_count": null,
   "metadata": {},
   "outputs": [],
   "source": [
    "#| tbl-cap: Calculated streamflow percentile thresholds for a streamgage\n",
    "# View a sample of this data\n",
    "display(percentiles_by_day.head())"
   ]
  },
  {
   "cell_type": "code",
   "execution_count": null,
   "metadata": {},
   "outputs": [],
   "source": [
    "#| fig-cap: Example Streamflow Duration Hydrograph for a Streamgage\n",
    "# plotting percentiles by day with line shade between\n",
    "fig, ax = plt.subplots(figsize=(10, 6))\n",
    "water_year_to_plot = 2022\n",
    "# get year/doy information\n",
    "df_indexed = hyswap.utils.define_year_doy_columns(flow_data,\n",
    "                                                  year_type='water',\n",
    "                                                  clip_leap_day=True)\n",
    "# filter down to data from selected year\n",
    "df_year = df_indexed[df_indexed['index_year'] == water_year_to_plot].copy()\n",
    "# plot data\n",
    "ax = hyswap.plots.plot_duration_hydrograph(\n",
    "    percentiles_by_day,\n",
    "    df_year,\n",
    "    \"00060_Mean\",\n",
    "    ax=ax,\n",
    "    data_label=f\"Water Year {water_year_to_plot}\",\n",
    "    title=f\"Streamflow Duration Hydrograph for {StaID} - {station_name}\"\n",
    ")\n",
    "plt.tight_layout()\n",
    "plt.show()"
   ]
  }
 ],
 "metadata": {
  "jupytext": {
   "formats": "ipynb,qmd"
  },
  "kernelspec": {
   "display_name": "Python 3 (ipykernel)",
   "language": "python",
   "name": "python3"
  },
  "language_info": {
   "codemirror_mode": {
    "name": "ipython",
    "version": 3
   },
   "file_extension": ".py",
   "mimetype": "text/x-python",
   "name": "python",
   "nbconvert_exporter": "python",
   "pygments_lexer": "ipython3",
   "version": "3.11.5"
  }
 },
 "nbformat": 4,
 "nbformat_minor": 4
}
